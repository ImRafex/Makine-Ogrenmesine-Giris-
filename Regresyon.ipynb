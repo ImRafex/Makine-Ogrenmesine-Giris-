{
  "cells": [
    {
      "cell_type": "markdown",
      "metadata": {
        "id": "view-in-github",
        "colab_type": "text"
      },
      "source": [
        "<a href=\"https://colab.research.google.com/github/ImRafex/RAA/blob/main/Regresyon.ipynb\" target=\"_parent\"><img src=\"https://colab.research.google.com/assets/colab-badge.svg\" alt=\"Open In Colab\"/></a>"
      ]
    },
    {
      "cell_type": "markdown",
      "source": [
        "# **Lineer Regresyon**\n"
      ],
      "metadata": {
        "id": "RK2UvNhXehoy"
      }
    },
    {
      "cell_type": "code",
      "source": [
        "import pandas as pd\n",
        "import seaborn as sns\n",
        "\n",
        "df = pd.DataFrame(data = {\n",
        "    'Metrekare':[100, 150, 120, 300, 230], \n",
        "    'Fiyat':[70, 90, 95, 120, 110]\n",
        "    })\n",
        "\n",
        "sns.lmplot(x='Metrekare', y='Fiyat', data = df)\n"
      ],
      "metadata": {
        "id": "g-Z4JIr3fXXz"
      },
      "execution_count": null,
      "outputs": []
    },
    {
      "cell_type": "markdown",
      "source": [
        "**y = wx + b**\n",
        "*   y = label (Fiyat)\n",
        "*   w = Weight of x\n",
        "*   x = Feature (Metrekare)\n",
        "*   b = bias\n",
        "\n",
        "\n",
        "\n"
      ],
      "metadata": {
        "id": "DgGFP_QPgF1d"
      }
    },
    {
      "cell_type": "code",
      "source": [
        "from  sklearn.linear_model import LinearRegression\n",
        "import numpy as np\n",
        "\n",
        "df = pd.DataFrame(data = {\n",
        "    'Metrekare': [100, 150, 120, 300, 230], \n",
        "    'Fiyat': [70, 90, 95, 120, 110]\n",
        "    })\n",
        "\n",
        "X = df.iloc[:,:-1].values   # feature\n",
        "y = df.iloc[:,-1].values    # label\n",
        "\n",
        "reg = LinearRegression().fit(X,y)\n",
        "\n",
        "print(f\"Score: {reg.score(X,y)}\")\n",
        "print(f\"Coefficient: {reg.coef_}\")\n",
        "print(f\"Intercept: {reg.intercept_}\")"
      ],
      "metadata": {
        "id": "eUjI8bL3gd_W"
      },
      "execution_count": null,
      "outputs": []
    },
    {
      "cell_type": "code",
      "source": [
        "metrekare = int(input(\"Lütfen fiyat tahminini yapacağınız metrekareyi giriniz: \"))\n",
        "\n",
        "print(f\"{metrekare} metrekare evin tahmini fiyatı: {reg.predict(np.array([[metrekare]]))}\")"
      ],
      "metadata": {
        "id": "suF4VfWShXLy"
      },
      "execution_count": null,
      "outputs": []
    },
    {
      "cell_type": "code",
      "source": [
        "metrekare * reg.coef_[0] + float(reg.intercept_)"
      ],
      "metadata": {
        "id": "uvXxEoQRhdvY"
      },
      "execution_count": null,
      "outputs": []
    },
    {
      "cell_type": "markdown",
      "source": [
        "# **Multiple Lineer Regresyon**"
      ],
      "metadata": {
        "id": "-JB0QMsEhm9X"
      }
    },
    {
      "cell_type": "code",
      "source": [
        "import pandas as pd\n",
        "import matplotlib.pyplot as plt\n",
        "from matplotlib import cm\n",
        "from mpl_toolkits.mplot3d import Axes3D\n",
        "\n",
        "df = pd.DataFrame(data = {\n",
        "    'Metrekare':[100, 150, 120, 300, 230], \n",
        "    'Bina Yaşı':[5, 2, 6, 10, 3], \n",
        "    'Fiyat':[70, 90, 95, 120, 110]\n",
        "    })\n",
        "\n",
        "fig = plt.figure()\n",
        "ax = Axes3D(fig)\n",
        "ax.plot_trisurf(df['Metrekare'], df['Bina Yaşı'], df['Fiyat'], cmap=cm.jet, linewidth=0.2)\n",
        "ax.set_xlabel('Metrekare')\n",
        "ax.set_ylabel('Fiyat')\n",
        "ax.set_zlabel('Bina Yaşı')\n",
        "plt.show()"
      ],
      "metadata": {
        "id": "CVhznn4hhxBS"
      },
      "execution_count": null,
      "outputs": []
    },
    {
      "cell_type": "markdown",
      "source": [
        "**y = w1x1 + w2x2 + c**\n",
        "\n",
        "*   y = label (Fiyat)\n",
        "*   w1 = Weight of x1\n",
        "*   x1 = Feature 1 (Metrekare)\n",
        "*   w2 = Weight of x2\n",
        "*   x2 = Feature 2 (Bina Yaşı)\n",
        "*   c = bias\n",
        "\n",
        "\n",
        "\n"
      ],
      "metadata": {
        "id": "OkYI-unUiCpO"
      }
    },
    {
      "cell_type": "code",
      "source": [
        "df = pd.DataFrame(data = {\n",
        "    'Metrekare':[100, 150, 120, 300, 230], \n",
        "    'Bina Yaşı':[5, 2, 6, 10, 3], \n",
        "    'Fiyat':[70, 90, 95, 120, 110]\n",
        "    })\n",
        "\n",
        "X = df.iloc[: , :-1]\n",
        "y = df.iloc[: , -1]\n",
        "\n",
        "reg = LinearRegression().fit(X, y)\n",
        "\n",
        "print(f\"Score: {reg.score(X, y)}\")\n",
        "print(f\"Coefficient: {reg.coef_}\")\n",
        "print(f\"Intercept: {reg.intercept_}\")"
      ],
      "metadata": {
        "id": "_yYI4_gliSLI"
      },
      "execution_count": null,
      "outputs": []
    },
    {
      "cell_type": "markdown",
      "source": [
        "# Non-Lineer - Polynomial **Regresyon**"
      ],
      "metadata": {
        "id": "McrGAkghiU_3"
      }
    },
    {
      "cell_type": "code",
      "source": [
        "import pandas as pd\n",
        "import matplotlib.pyplot as plt\n",
        "\n",
        "df = pd.DataFrame(data = {\n",
        "    'Metrekare':[100, 150, 160, 200, 230], \n",
        "    'Yükseklik':[50, 60, 70, 80, 90], \n",
        "    'Genişlik': [10, 20, 20, 25, 40], \n",
        "    'Fiyat':[70, 90, 95, 120, 110]\n",
        "    })\n",
        "\n",
        "df['Alan'] = df['Yükseklik'] * df['Genişlik']\n",
        "df.drop(columns = ['Yükseklik', 'Genişlik'])\n",
        "\n",
        "plt.plot(df['Alan'], df['Fiyat'])"
      ],
      "metadata": {
        "id": "3GH73IPwiXhH"
      },
      "execution_count": null,
      "outputs": []
    },
    {
      "cell_type": "markdown",
      "source": [
        "y = ax ** 3 + b"
      ],
      "metadata": {
        "id": "K54c2hDTia_7"
      }
    },
    {
      "cell_type": "code",
      "source": [
        "import pandas as pd\n",
        "import matplotlib.pyplot as plt\n",
        "\n",
        "df = pd.DataFrame(data = {\n",
        "    'Metrekare': range(1,101, 3)\n",
        "    })\n",
        "\n",
        "df['Fiyat'] = df['Metrekare'] ** 3\n",
        "\n",
        "plt.plot(df['Metrekare'], df['Fiyat'])"
      ],
      "metadata": {
        "id": "QLDbEd-Tif3G"
      },
      "execution_count": null,
      "outputs": []
    },
    {
      "cell_type": "markdown",
      "source": [
        "# **Regresyon Modelimizde Hata Kavramı**"
      ],
      "metadata": {
        "id": "JUYrfc-eimhP"
      }
    },
    {
      "cell_type": "code",
      "source": [
        "import pandas as pd\n",
        "from sklearn.linear_model import LinearRegression\n",
        "\n",
        "df = pd.DataFrame(data = {\n",
        "    'Metrekare':[100, 150, 120, 300, 230], \n",
        "    'Fiyat':[70, 90, 95, 120, 110]\n",
        "    })\n",
        "\n",
        "X = df.iloc[:, :-1]\n",
        "y = df.iloc[:, -1]\n",
        "\n",
        "reg = LinearRegression().fit(X, y)\n",
        "\n",
        "toplam_hata = 0\n",
        "for idx in range(len(df)):\n",
        "  gercek_fiyat = df.loc[idx]['Fiyat']\n",
        "  metrekare = df.loc[idx]['Metrekare']\n",
        "\n",
        "  tahmin_fiyat = reg.predict([[metrekare]])[0]\n",
        "\n",
        "  # Hatali gosterim abs eklenmeli, olmamasi gerekiyor!\n",
        "  print(f\"{df.loc[idx]['Metrekare']} metrekare için gerçek fiyat: {gercek_fiyat}. Tahmin edilen fiyat: {tahmin_fiyat}. HATA: {gercek_fiyat - tahmin_fiyat}\")\n",
        "  toplam_hata = gercek_fiyat - tahmin_fiyat\n",
        "\n",
        "print(f\"\\nToplam Hata: {toplam_hata}\")"
      ],
      "metadata": {
        "id": "n9GZCGL4ioHP"
      },
      "execution_count": null,
      "outputs": []
    },
    {
      "cell_type": "code",
      "source": [
        "df.head()"
      ],
      "metadata": {
        "id": "cfVC4_u_isYO"
      },
      "execution_count": null,
      "outputs": []
    },
    {
      "cell_type": "markdown",
      "source": [
        "# **R2 (R squared)**"
      ],
      "metadata": {
        "id": "MieAUJ_VityT"
      }
    },
    {
      "cell_type": "code",
      "source": [
        "from sklearn.linear_model import LinearRegression\n",
        "from sklearn.metrics import r2_score\n",
        "\n",
        "df = pd.DataFrame(data = {\n",
        "    'Metrekare':[100, 150, 120, 300, 230], \n",
        "    'Bina Yaşı':[5, 2, 6, 10, 3], \n",
        "    'Fiyat':[70, 90, 95, 120, 110]})"
      ],
      "metadata": {
        "id": "F5TGZD4xivNs"
      },
      "execution_count": null,
      "outputs": []
    },
    {
      "cell_type": "code",
      "source": [
        "df.head()"
      ],
      "metadata": {
        "id": "_VjJiH2KiyHT"
      },
      "execution_count": null,
      "outputs": []
    },
    {
      "cell_type": "code",
      "source": [
        "X = df.iloc[:, :-1].values\n",
        "y = df.iloc[:,-1].values"
      ],
      "metadata": {
        "id": "FpeRMBuhizxG"
      },
      "execution_count": null,
      "outputs": []
    },
    {
      "cell_type": "code",
      "source": [
        "X"
      ],
      "metadata": {
        "id": "M4edYRZ3i1YS"
      },
      "execution_count": null,
      "outputs": []
    },
    {
      "cell_type": "code",
      "source": [
        "y"
      ],
      "metadata": {
        "id": "RfcSE_5ti2Rz"
      },
      "execution_count": null,
      "outputs": []
    },
    {
      "cell_type": "code",
      "source": [
        "reg = LinearRegression().fit(X, y)\n",
        "\n",
        "y_pred = []\n",
        "\n",
        "for idx in range(len(df)):\n",
        "  metrekare = df.loc[idx][\"Metrekare\"]\n",
        "  bina_yasi = df.loc[idx][\"Bina Yaşı\"]\n",
        "\n",
        "  y_pred.append(reg.predict([[metrekare,bina_yasi]]))\n",
        "\n",
        "print(reg.score(X, y)) # X -> Test verisi, y -> Test verilerinin gerçek label değerleri\n",
        "print(r2_score(y, y_pred)) # y -> Gerçek label değerleri, y_pred -> model tarafından tahmin edilen y değerleri"
      ],
      "metadata": {
        "id": "4nxdJO0Oi5-Q"
      },
      "execution_count": null,
      "outputs": []
    },
    {
      "cell_type": "markdown",
      "source": [
        "# **Mean Absolute Error (MAE)**"
      ],
      "metadata": {
        "id": "-4_-M5LEi7Vu"
      }
    },
    {
      "cell_type": "code",
      "source": [
        "from sklearn.linear_model import LinearRegression\n",
        "from sklearn.metrics import mean_absolute_error\n",
        "\n",
        "df = pd.DataFrame(data = {\n",
        "    'Metrekare':[100, 150, 120, 300, 230], \n",
        "    'Bina Yaşı':[5, 2, 6, 10, 3], \n",
        "    'Fiyat':[70, 90, 95, 120, 110]\n",
        "    })\n",
        "\n",
        "X = df.iloc[:,:-1].values # feature values (take columns until last column)\n",
        "y = df.iloc[:,-1].values # label values (take only last column)\n",
        "\n",
        "reg = LinearRegression().fit(X, y)\n",
        "\n",
        "y_pred = []\n",
        "\n",
        "for idx in range(len(df)):\n",
        "  metrekare = df.loc[idx][\"Metrekare\"]\n",
        "  bina_yasi = df.loc[idx][\"Bina Yaşı\"]\n",
        "\n",
        "  y_pred.append(reg.predict([[metrekare,bina_yasi]]))\n",
        "\n",
        "\n",
        "print(mean_absolute_error(y, y_pred))"
      ],
      "metadata": {
        "id": "s_MqOQHDi9uQ"
      },
      "execution_count": null,
      "outputs": []
    },
    {
      "cell_type": "markdown",
      "source": [
        "# **Mean Squared Error (MSE)**"
      ],
      "metadata": {
        "id": "YzfuNs6ai_PM"
      }
    },
    {
      "cell_type": "code",
      "source": [
        "from sklearn.linear_model import LinearRegression\n",
        "from sklearn.metrics import mean_squared_error\n",
        "\n",
        "df = pd.DataFrame(data = {\n",
        "    'Metrekare':[100, 150, 120, 300, 230], \n",
        "    'Bina Yaşı':[5, 2, 6, 10, 3], \n",
        "    'Fiyat':[70, 90, 95, 120, 110]})\n",
        "\n",
        "X = df.iloc[:,:-1].values\n",
        "y = df.iloc[:,-1].values\n",
        "\n",
        "reg = LinearRegression().fit(X, y)\n",
        "\n",
        "y_pred = []\n",
        "\n",
        "for idx in range(len(df)):\n",
        "  metrekare = df.loc[idx][\"Metrekare\"]\n",
        "  bina_yasi = df.loc[idx][\"Bina Yaşı\"]\n",
        "\n",
        "  y_pred.append(reg.predict([[metrekare,bina_yasi]]))\n",
        "\n",
        "\n",
        "print(mean_squared_error(y, y_pred))"
      ],
      "metadata": {
        "id": "vsYy1hhwjAlN"
      },
      "execution_count": null,
      "outputs": []
    },
    {
      "cell_type": "markdown",
      "source": [
        "# **Verimizi Eğitim - Test - Validasyon Setlerine Ayırmak (train-test-validation split)**"
      ],
      "metadata": {
        "id": "S_N3qycRjDeR"
      }
    },
    {
      "cell_type": "code",
      "source": [
        "#train-test split\n",
        "import pandas as pd\n",
        "import numpy as np\n",
        "from sklearn.model_selection import train_test_split\n",
        "from sklearn.linear_model import LinearRegression\n",
        "\n",
        "\n",
        "df = pd.DataFrame(data = {'Metrekare':[100, 150, 120, 300, 230, 175, 220, 270, 190, 220], \n",
        "                          'Bina Yaşı':[5, 2, 6, 10, 3, 7, 6, 8, 9, 4], \n",
        "                          'Fiyat':[70, 90, 95, 120, 110, 120, 95, 140, 220, 100]})\n",
        "\n",
        "X = df.iloc[:, :-1].values\n",
        "y = df.iloc[:, -1].values\n",
        "\n",
        "X_train, X_test, y_train, y_test = train_test_split(X, y, test_size=0.2, random_state=7)\n",
        "\n",
        "print(X_train.shape)\n",
        "print(X_test.shape)\n",
        "print(y_train.shape)\n",
        "print(y_test.shape)\n",
        "\n",
        "print(X_train)"
      ],
      "metadata": {
        "id": "pB1r-1vVjG3w"
      },
      "execution_count": null,
      "outputs": []
    },
    {
      "cell_type": "code",
      "source": [
        "X_train"
      ],
      "metadata": {
        "id": "ZkIgvXlijIWT"
      },
      "execution_count": null,
      "outputs": []
    },
    {
      "cell_type": "code",
      "source": [
        "X_test"
      ],
      "metadata": {
        "id": "phbgGgKCjJsE"
      },
      "execution_count": null,
      "outputs": []
    },
    {
      "cell_type": "code",
      "source": [
        "X_train, X_test, y_train, y_test = train_test_split(X, y, test_size=0.2, random_state = 7)\n",
        "\n",
        "print(X_train)"
      ],
      "metadata": {
        "id": "YN75-te5jKy3"
      },
      "execution_count": null,
      "outputs": []
    },
    {
      "cell_type": "code",
      "source": [
        "X_train, X_test, y_train, y_test = train_test_split(X, y, test_size=0.2, random_state=9)\n",
        "\n",
        "print(X_train)"
      ],
      "metadata": {
        "id": "3a-Hb7mFjL5B"
      },
      "execution_count": null,
      "outputs": []
    },
    {
      "cell_type": "code",
      "source": [
        "X_train, X_test, y_train, y_test = train_test_split(X, y, test_size = 0.2, random_state = 7)\n",
        "\n",
        "print(X_train)"
      ],
      "metadata": {
        "id": "ysmRLgjijNTB"
      },
      "execution_count": null,
      "outputs": []
    },
    {
      "cell_type": "code",
      "source": [
        "#train-test-validation split\n",
        "df = pd.DataFrame(data = {'Metrekare':[100, 150, 120, 300, 230, 175, 220, 270, 190, 220], \n",
        "                          'Bina Yaşı':[5, 2, 6, 10, 3, 7, 6, 8, 9, 4], \n",
        "                          'Fiyat':[70, 90, 95, 120, 110, 120, 95, 140, 220, 100]})\n",
        "\n",
        "X = df.iloc[:,:-1].values\n",
        "y = df.iloc[:,-1].values\n",
        "\n",
        "X_train, X_test, y_train, y_test = train_test_split(X, y, test_size=0.2, random_state=7)\n",
        "\n",
        "X_train, X_validasyon, y_train, y_validasyon = train_test_split(X_train, y_train, test_size=2)\n",
        "\n",
        "\n",
        "print(X_train.shape)\n",
        "print(X_test.shape)\n",
        "\n",
        "print(y_train.shape)\n",
        "print(y_test.shape)\n",
        "\n",
        "print(X_validasyon.shape)\n",
        "print(y_validasyon.shape)\n",
        "\n",
        "print(X_train)"
      ],
      "metadata": {
        "id": "yh74A06pjQbN"
      },
      "execution_count": null,
      "outputs": []
    },
    {
      "cell_type": "markdown",
      "source": [
        "# **L1 (Lasso) Regülarizasyon**"
      ],
      "metadata": {
        "id": "KCfnX0SijRzf"
      }
    },
    {
      "cell_type": "code",
      "source": [
        "from sklearn.linear_model import Lasso\n",
        "\n",
        "df = pd.DataFrame(data = {\n",
        "    'Metrekare':[100, 150, 120, 300, 230], \n",
        "    'Bina Yaşı':[5, 2, 6, 10, 3], \n",
        "    'Fiyat':[70, 90, 95, 120, 110]})\n",
        "\n",
        "X = df.iloc[:, :-1].values\n",
        "y = df.iloc[:, -1].values\n",
        "\n",
        "model = Lasso(alpha=0.1)\n",
        "model.fit(X, y)\n",
        "\n",
        "print(model.coef_)\n",
        "print(model.score(X, y))\n",
        "print(model.intercept_)\n",
        "\n",
        "print(model.predict([[300, 9]]))"
      ],
      "metadata": {
        "id": "foGYquuYjTPE"
      },
      "execution_count": null,
      "outputs": []
    },
    {
      "cell_type": "markdown",
      "source": [
        "https://developers.google.com/machine-learning/crash-course/regularization-for-sparsity/l1-regularization"
      ],
      "metadata": {
        "id": "O0r1Obfxjb45"
      }
    },
    {
      "cell_type": "markdown",
      "source": [
        "# **L2 (Ridge) Regülarizasyon**"
      ],
      "metadata": {
        "id": "Mx9NBhlDjcwq"
      }
    },
    {
      "cell_type": "code",
      "source": [
        "from sklearn.linear_model import Ridge\n",
        "\n",
        "df = pd.DataFrame(data = {\n",
        "    'Metrekare':[100, 150, 120, 300, 230], \n",
        "    'Bina Yaşı':[5, 2, 6, 10, 3], \n",
        "    'Fiyat':[70, 90, 95, 120, 110]\n",
        "    })\n",
        "\n",
        "X = df.iloc[:,:-1].values\n",
        "y = df.iloc[:,-1].values\n",
        "\n",
        "model = Ridge(alpha=0.1)\n",
        "model.fit(X, y)\n",
        "\n",
        "print(model.coef_)\n",
        "print(model.score(X, y))\n",
        "print(model.intercept_)\n",
        "\n",
        "model.predict([[300, 9]])"
      ],
      "metadata": {
        "id": "20cSbbg2jfwc"
      },
      "execution_count": null,
      "outputs": []
    }
  ],
  "metadata": {
    "colab": {
      "collapsed_sections": [],
      "name": "Regresyon",
      "toc_visible": true,
      "provenance": [],
      "include_colab_link": true
    },
    "kernelspec": {
      "display_name": "Python 3",
      "name": "python3"
    }
  },
  "nbformat": 4,
  "nbformat_minor": 0
}