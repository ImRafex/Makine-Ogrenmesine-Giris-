{
  "cells": [
    {
      "cell_type": "markdown",
      "metadata": {
        "id": "view-in-github",
        "colab_type": "text"
      },
      "source": [
        "<a href=\"https://colab.research.google.com/github/ImRafex/RAA/blob/main/Regresyon.ipynb\" target=\"_parent\"><img src=\"https://colab.research.google.com/assets/colab-badge.svg\" alt=\"Open In Colab\"/></a>"
      ]
    },
    {
      "cell_type": "markdown",
      "source": [
        "# **Lineer Regresyon**\n"
      ],
      "metadata": {
        "id": "RK2UvNhXehoy"
      }
    },
    {
      "cell_type": "code",
      "source": [
        "import pandas as pd\n",
        "import seaborn as sns\n",
        "\n",
        "df = pd.DataFrame(data = {\n",
        "    'Metrekare':[100, 150, 120, 300, 230], \n",
        "    'Fiyat':[70, 90, 95, 120, 110]\n",
        "    })\n",
        "\n",
        "sns.lmplot(x='Metrekare', y='Fiyat', data = df)\n"
      ],
      "metadata": {
        "id": "g-Z4JIr3fXXz",
        "colab": {
          "base_uri": "https://localhost:8080/",
          "height": 386
        },
        "outputId": "9ad182ee-1534-4204-ff90-ef1847490f19"
      },
      "execution_count": 1,
      "outputs": [
        {
          "output_type": "execute_result",
          "data": {
            "text/plain": [
              "<seaborn.axisgrid.FacetGrid at 0x7fcf1b5473d0>"
            ]
          },
          "metadata": {},
          "execution_count": 1
        },
        {
          "output_type": "display_data",
          "data": {
            "image/png": "[encoded data removed]",
            "text/plain": [
              "<Figure size 360x360 with 1 Axes>"
            ]
          },
          "metadata": {
            "needs_background": "light"
          }
        }
      ]
    },
    {
      "cell_type": "markdown",
      "source": [
        "**y = wx + b**\n",
        "*   y = label (Fiyat)\n",
        "*   w = Weight of x\n",
        "*   x = Feature (Metrekare)\n",
        "*   b = bias\n",
        "\n",
        "\n",
        "\n"
      ],
      "metadata": {
        "id": "DgGFP_QPgF1d"
      }
    },
    {
      "cell_type": "code",
      "source": [
        "from  sklearn.linear_model import LinearRegression\n",
        "import numpy as np\n",
        "\n",
        "df = pd.DataFrame(data = {\n",
        "    'Metrekare': [100, 150, 120, 300, 230], \n",
        "    'Fiyat': [70, 90, 95, 120, 110]\n",
        "    })\n",
        "\n",
        "X = df.iloc[:,:-1].values   # feature\n",
        "y = df.iloc[:,-1].values    # label\n",
        "\n",
        "reg = LinearRegression().fit(X,y)\n",
        "\n",
        "print(f\"Score: {reg.score(X,y)}\")\n",
        "print(f\"Coefficient: {reg.coef_}\")\n",
        "print(f\"Intercept: {reg.intercept_}\")"
      ],
      "metadata": {
        "id": "eUjI8bL3gd_W",
        "colab": {
          "base_uri": "https://localhost:8080/"
        },
        "outputId": "bc7bb8e5-9aad-4e4a-d005-09872d14cd8f"
      },
      "execution_count": 2,
      "outputs": [
        {
          "output_type": "stream",
          "name": "stdout",
          "text": [
            "Score: 0.8460528874197938\n",
            "Coefficient: [0.21223022]\n",
            "Intercept: 58.79856115107912\n"
          ]
        }
      ]
    },
    {
      "cell_type": "code",
      "source": [
        "metrekare = int(input(\"Lütfen fiyat tahminini yapacağınız metrekareyi giriniz: \"))\n",
        "\n",
        "print(f\"{metrekare} metrekare evin tahmini fiyatı: {reg.predict(np.array([[metrekare]]))}\")"
      ],
      "metadata": {
        "id": "suF4VfWShXLy",
        "colab": {
          "base_uri": "https://localhost:8080/"
        },
        "outputId": "e7dbcb28-0207-4f6e-8e47-fe2d13bcb055"
      },
      "execution_count": 3,
      "outputs": [
        {
          "output_type": "stream",
          "name": "stdout",
          "text": [
            "Lütfen fiyat tahminini yapacağınız metrekareyi giriniz: 170\n",
            "170 metrekare evin tahmini fiyatı: [94.87769784]\n"
          ]
        }
      ]
    },
    {
      "cell_type": "code",
      "source": [
        "metrekare * reg.coef_[0] + float(reg.intercept_)"
      ],
      "metadata": {
        "id": "uvXxEoQRhdvY",
        "colab": {
          "base_uri": "https://localhost:8080/"
        },
        "outputId": "9789dea7-642d-44e6-9865-f874d02139f3"
      },
      "execution_count": 4,
      "outputs": [
        {
          "output_type": "execute_result",
          "data": {
            "text/plain": [
              "94.87769784172662"
            ]
          },
          "metadata": {},
          "execution_count": 4
        }
      ]
    },
    {
      "cell_type": "markdown",
      "source": [
        "# **Multiple Lineer Regresyon**"
      ],
      "metadata": {
        "id": "-JB0QMsEhm9X"
      }
    },
    {
      "cell_type": "code",
      "source": [
        "import pandas as pd\n",
        "import matplotlib.pyplot as plt\n",
        "from matplotlib import cm\n",
        "from mpl_toolkits.mplot3d import Axes3D\n",
        "\n",
        "df = pd.DataFrame(data = {\n",
        "    'Metrekare':[100, 150, 120, 300, 230], \n",
        "    'Bina Yaşı':[5, 2, 6, 10, 3], \n",
        "    'Fiyat':[70, 90, 95, 120, 110]\n",
        "    })\n",
        "\n",
        "fig = plt.figure()\n",
        "ax = Axes3D(fig)\n",
        "ax.plot_trisurf(df['Metrekare'], df['Bina Yaşı'], df['Fiyat'], cmap=cm.jet, linewidth=0.2)\n",
        "ax.set_xlabel('Metrekare')\n",
        "ax.set_ylabel('Fiyat')\n",
        "ax.set_zlabel('Bina Yaşı')\n",
        "plt.show()"
      ],
      "metadata": {
        "id": "CVhznn4hhxBS",
        "colab": {
          "base_uri": "https://localhost:8080/",
          "height": 319
        },
        "outputId": "93f6d8d1-a66c-4994-b592-896d7307d75c"
      },
      "execution_count": 5,
      "outputs": [
        {
          "output_type": "display_data",
          "data": {
            "image/png": "[encoded data removed]",
            "text/plain": [
              "<Figure size 432x288 with 1 Axes>"
            ]
          },
          "metadata": {
            "needs_background": "light"
          }
        }
      ]
    },
    {
      "cell_type": "markdown",
      "source": [
        "**y = w1x1 + w2x2 + c**\n",
        "\n",
        "*   y = label (Fiyat)\n",
        "*   w1 = Weight of x1\n",
        "*   x1 = Feature 1 (Metrekare)\n",
        "*   w2 = Weight of x2\n",
        "*   x2 = Feature 2 (Bina Yaşı)\n",
        "*   c = bias\n",
        "\n",
        "\n",
        "\n"
      ],
      "metadata": {
        "id": "OkYI-unUiCpO"
      }
    },
    {
      "cell_type": "code",
      "source": [
        "df = pd.DataFrame(data = {\n",
        "    'Metrekare':[100, 150, 120, 300, 230], \n",
        "    'Bina Yaşı':[5, 2, 6, 10, 3], \n",
        "    'Fiyat':[70, 90, 95, 120, 110]\n",
        "    })\n",
        "\n",
        "X = df.iloc[: , :-1]\n",
        "y = df.iloc[: , -1]\n",
        "\n",
        "reg = LinearRegression().fit(X, y)\n",
        "\n",
        "print(f\"Score: {reg.score(X, y)}\")\n",
        "print(f\"Coefficient: {reg.coef_}\")\n",
        "print(f\"Intercept: {reg.intercept_}\")"
      ],
      "metadata": {
        "id": "_yYI4_gliSLI",
        "colab": {
          "base_uri": "https://localhost:8080/"
        },
        "outputId": "6fd36c6e-247c-41c8-e624-308a8e522f18"
      },
      "execution_count": 6,
      "outputs": [
        {
          "output_type": "stream",
          "name": "stdout",
          "text": [
            "Score: 0.8465258951131542\n",
            "Coefficient: [ 0.21520796 -0.15619124]\n",
            "Intercept: 59.0747612003911\n"
          ]
        }
      ]
    },
    {
      "cell_type": "markdown",
      "source": [
        "# Non-Lineer - Polynomial **Regresyon**"
      ],
      "metadata": {
        "id": "McrGAkghiU_3"
      }
    },
    {
      "cell_type": "code",
      "source": [
        "import pandas as pd\n",
        "import matplotlib.pyplot as plt\n",
        "\n",
        "df = pd.DataFrame(data = {\n",
        "    'Metrekare':[100, 150, 160, 200, 230], \n",
        "    'Yükseklik':[50, 60, 70, 80, 90], \n",
        "    'Genişlik': [10, 20, 20, 25, 40], \n",
        "    'Fiyat':[70, 90, 95, 120, 110]\n",
        "    })\n",
        "\n",
        "df['Alan'] = df['Yükseklik'] * df['Genişlik']\n",
        "df.drop(columns = ['Yükseklik', 'Genişlik'])\n",
        "\n",
        "plt.plot(df['Alan'], df['Fiyat'])"
      ],
      "metadata": {
        "id": "3GH73IPwiXhH",
        "colab": {
          "base_uri": "https://localhost:8080/",
          "height": 282
        },
        "outputId": "fc95352c-56a4-46a9-a595-f91ba0e865a3"
      },
      "execution_count": 7,
      "outputs": [
        {
          "output_type": "execute_result",
          "data": {
            "text/plain": [
              "[<matplotlib.lines.Line2D at 0x7fcefa282610>]"
            ]
          },
          "metadata": {},
          "execution_count": 7
        },
        {
          "output_type": "display_data",
          "data": {
            "image/png": "[encoded data removed]",
            "text/plain": [
              "<Figure size 432x288 with 1 Axes>"
            ]
          },
          "metadata": {
            "needs_background": "light"
          }
        }
      ]
    },
    {
      "cell_type": "markdown",
      "source": [
        "y = ax ** 3 + b"
      ],
      "metadata": {
        "id": "K54c2hDTia_7"
      }
    },
    {
      "cell_type": "code",
      "source": [
        "import pandas as pd\n",
        "import matplotlib.pyplot as plt\n",
        "\n",
        "df = pd.DataFrame(data = {\n",
        "    'Metrekare': range(1,101, 3)\n",
        "    })\n",
        "\n",
        "df['Fiyat'] = df['Metrekare'] ** 3\n",
        "\n",
        "plt.plot(df['Metrekare'], df['Fiyat'])"
      ],
      "metadata": {
        "id": "QLDbEd-Tif3G",
        "colab": {
          "base_uri": "https://localhost:8080/",
          "height": 293
        },
        "outputId": "8da372b9-dd17-4edd-f8b3-15c7f4fb9aa2"
      },
      "execution_count": 8,
      "outputs": [
        {
          "output_type": "execute_result",
          "data": {
            "text/plain": [
              "[<matplotlib.lines.Line2D at 0x7fcefa26ef10>]"
            ]
          },
          "metadata": {},
          "execution_count": 8
        },
        {
          "output_type": "display_data",
          "data": {
            "image/png": "[encoded data removed]",
            "text/plain": [
              "<Figure size 432x288 with 1 Axes>"
            ]
          },
          "metadata": {
            "needs_background": "light"
          }
        }
      ]
    },
    {
      "cell_type": "markdown",
      "source": [
        "# **Regresyon Modelimizde Hata Kavramı**"
      ],
      "metadata": {
        "id": "JUYrfc-eimhP"
      }
    },
    {
      "cell_type": "code",
      "source": [
        "import pandas as pd\n",
        "from sklearn.linear_model import LinearRegression\n",
        "\n",
        "df = pd.DataFrame(data = {\n",
        "    'Metrekare':[100, 150, 120, 300, 230], \n",
        "    'Fiyat':[70, 90, 95, 120, 110]\n",
        "    })\n",
        "\n",
        "X = df.iloc[:, :-1]\n",
        "y = df.iloc[:, -1]\n",
        "\n",
        "reg = LinearRegression().fit(X, y)\n",
        "\n",
        "toplam_hata = 0\n",
        "for idx in range(len(df)):\n",
        "  gercek_fiyat = df.loc[idx]['Fiyat']\n",
        "  metrekare = df.loc[idx]['Metrekare']\n",
        "\n",
        "  tahmin_fiyat = reg.predict([[metrekare]])[0]\n",
        "\n",
        "  # Hatali gosterim abs eklenmeli, olmamasi gerekiyor!\n",
        "  print(f\"{df.loc[idx]['Metrekare']} metrekare için gerçek fiyat: {gercek_fiyat}. Tahmin edilen fiyat: {tahmin_fiyat}. HATA: {gercek_fiyat - tahmin_fiyat}\")\n",
        "  toplam_hata = gercek_fiyat - tahmin_fiyat\n",
        "\n",
        "print(f\"\\nToplam Hata: {toplam_hata}\")"
      ],
      "metadata": {
        "id": "n9GZCGL4ioHP",
        "colab": {
          "base_uri": "https://localhost:8080/"
        },
        "outputId": "fad8d2f8-d60a-48d4-d651-56f45c660af9"
      },
      "execution_count": 9,
      "outputs": [
        {
          "output_type": "stream",
          "name": "stdout",
          "text": [
            "100 metrekare için gerçek fiyat: 70. Tahmin edilen fiyat: 80.02158273381295. HATA: -10.021582733812949\n",
            "150 metrekare için gerçek fiyat: 90. Tahmin edilen fiyat: 90.63309352517986. HATA: -0.6330935251798593\n",
            "120 metrekare için gerçek fiyat: 95. Tahmin edilen fiyat: 84.2661870503597. HATA: 10.733812949640296\n",
            "300 metrekare için gerçek fiyat: 120. Tahmin edilen fiyat: 122.46762589928059. HATA: -2.4676258992805913\n",
            "230 metrekare için gerçek fiyat: 110. Tahmin edilen fiyat: 107.61151079136691. HATA: 2.3884892086330893\n",
            "\n",
            "Toplam Hata: 2.3884892086330893\n"
          ]
        },
        {
          "output_type": "stream",
          "name": "stderr",
          "text": [
            "/usr/local/lib/python3.7/dist-packages/sklearn/base.py:451: UserWarning: X does not have valid feature names, but LinearRegression was fitted with feature names\n",
            "  \"X does not have valid feature names, but\"\n",
            "/usr/local/lib/python3.7/dist-packages/sklearn/base.py:451: UserWarning: X does not have valid feature names, but LinearRegression was fitted with feature names\n",
            "  \"X does not have valid feature names, but\"\n",
            "/usr/local/lib/python3.7/dist-packages/sklearn/base.py:451: UserWarning: X does not have valid feature names, but LinearRegression was fitted with feature names\n",
            "  \"X does not have valid feature names, but\"\n",
            "/usr/local/lib/python3.7/dist-packages/sklearn/base.py:451: UserWarning: X does not have valid feature names, but LinearRegression was fitted with feature names\n",
            "  \"X does not have valid feature names, but\"\n",
            "/usr/local/lib/python3.7/dist-packages/sklearn/base.py:451: UserWarning: X does not have valid feature names, but LinearRegression was fitted with feature names\n",
            "  \"X does not have valid feature names, but\"\n"
          ]
        }
      ]
    },
    {
      "cell_type": "code",
      "source": [
        "df.head()"
      ],
      "metadata": {
        "id": "cfVC4_u_isYO",
        "colab": {
          "base_uri": "https://localhost:8080/",
          "height": 206
        },
        "outputId": "4276afd7-daca-48f7-da53-d6e86b625b80"
      },
      "execution_count": 10,
      "outputs": [
        {
          "output_type": "execute_result",
          "data": {
            "text/html": [
              "\n",
              "  <div id=\"df-3b80867c-98f1-4d49-baa1-cc917374cce7\">\n",
              "    <div class=\"colab-df-container\">\n",
              "      <div>\n",
              "<style scoped>\n",
              "    .dataframe tbody tr th:only-of-type {\n",
              "        vertical-align: middle;\n",
              "    }\n",
              "\n",
              "    .dataframe tbody tr th {\n",
              "        vertical-align: top;\n",
              "    }\n",
              "\n",
              "    .dataframe thead th {\n",
              "        text-align: right;\n",
              "    }\n",
              "</style>\n",
              "<table border=\"1\" class=\"dataframe\">\n",
              "  <thead>\n",
              "    <tr style=\"text-align: right;\">\n",
              "      <th></th>\n",
              "      <th>Metrekare</th>\n",
              "      <th>Fiyat</th>\n",
              "    </tr>\n",
              "  </thead>\n",
              "  <tbody>\n",
              "    <tr>\n",
              "      <th>0</th>\n",
              "      <td>100</td>\n",
              "      <td>70</td>\n",
              "    </tr>\n",
              "    <tr>\n",
              "      <th>1</th>\n",
              "      <td>150</td>\n",
              "      <td>90</td>\n",
              "    </tr>\n",
              "    <tr>\n",
              "      <th>2</th>\n",
              "      <td>120</td>\n",
              "      <td>95</td>\n",
              "    </tr>\n",
              "    <tr>\n",
              "      <th>3</th>\n",
              "      <td>300</td>\n",
              "      <td>120</td>\n",
              "    </tr>\n",
              "    <tr>\n",
              "      <th>4</th>\n",
              "      <td>230</td>\n",
              "      <td>110</td>\n",
              "    </tr>\n",
              "  </tbody>\n",
              "</table>\n",
              "</div>\n",
              "      <button class=\"colab-df-convert\" onclick=\"convertToInteractive('df-3b80867c-98f1-4d49-baa1-cc917374cce7')\"\n",
              "              title=\"Convert this dataframe to an interactive table.\"\n",
              "              style=\"display:none;\">\n",
              "        \n",
              "  <svg xmlns=\"http://www.w3.org/2000/svg\" height=\"24px\"viewBox=\"0 0 24 24\"\n",
              "       width=\"24px\">\n",
              "    <path d=\"M0 0h24v24H0V0z\" fill=\"none\"/>\n",
              "    <path d=\"M18.56 5.44l.94 2.06.94-2.06 2.06-.94-2.06-.94-.94-2.06-.94 2.06-2.06.94zm-11 1L8.5 8.5l.94-2.06 2.06-.94-2.06-.94L8.5 2.5l-.94 2.06-2.06.94zm10 10l.94 2.06.94-2.06 2.06-.94-2.06-.94-.94-2.06-.94 2.06-2.06.94z\"/><path d=\"M17.41 7.96l-1.37-1.37c-.4-.4-.92-.59-1.43-.59-.52 0-1.04.2-1.43.59L10.3 9.45l-7.72 7.72c-.78.78-.78 2.05 0 2.83L4 21.41c.39.39.9.59 1.41.59.51 0 1.02-.2 1.41-.59l7.78-7.78 2.81-2.81c.8-.78.8-2.07 0-2.86zM5.41 20L4 18.59l7.72-7.72 1.47 1.35L5.41 20z\"/>\n",
              "  </svg>\n",
              "      </button>\n",
              "      \n",
              "  <style>\n",
              "    .colab-df-container {\n",
              "      display:flex;\n",
              "      flex-wrap:wrap;\n",
              "      gap: 12px;\n",
              "    }\n",
              "\n",
              "    .colab-df-convert {\n",
              "      background-color: #E8F0FE;\n",
              "      border: none;\n",
              "      border-radius: 50%;\n",
              "      cursor: pointer;\n",
              "      display: none;\n",
              "      fill: #1967D2;\n",
              "      height: 32px;\n",
              "      padding: 0 0 0 0;\n",
              "      width: 32px;\n",
              "    }\n",
              "\n",
              "    .colab-df-convert:hover {\n",
              "      background-color: #E2EBFA;\n",
              "      box-shadow: 0px 1px 2px rgba(60, 64, 67, 0.3), 0px 1px 3px 1px rgba(60, 64, 67, 0.15);\n",
              "      fill: #174EA6;\n",
              "    }\n",
              "\n",
              "    [theme=dark] .colab-df-convert {\n",
              "      background-color: #3B4455;\n",
              "      fill: #D2E3FC;\n",
              "    }\n",
              "\n",
              "    [theme=dark] .colab-df-convert:hover {\n",
              "      background-color: #434B5C;\n",
              "      box-shadow: 0px 1px 3px 1px rgba(0, 0, 0, 0.15);\n",
              "      filter: drop-shadow(0px 1px 2px rgba(0, 0, 0, 0.3));\n",
              "      fill: #FFFFFF;\n",
              "    }\n",
              "  </style>\n",
              "\n",
              "      <script>\n",
              "        const buttonEl =\n",
              "          document.querySelector('#df-3b80867c-98f1-4d49-baa1-cc917374cce7 button.colab-df-convert');\n",
              "        buttonEl.style.display =\n",
              "          google.colab.kernel.accessAllowed ? 'block' : 'none';\n",
              "\n",
              "        async function convertToInteractive(key) {\n",
              "          const element = document.querySelector('#df-3b80867c-98f1-4d49-baa1-cc917374cce7');\n",
              "          const dataTable =\n",
              "            await google.colab.kernel.invokeFunction('convertToInteractive',\n",
              "                                                     [key], {});\n",
              "          if (!dataTable) return;\n",
              "\n",
              "          const docLinkHtml = 'Like what you see? Visit the ' +\n",
              "            '<a target=\"_blank\" href=https://colab.research.google.com/notebooks/data_table.ipynb>data table notebook</a>'\n",
              "            + ' to learn more about interactive tables.';\n",
              "          element.innerHTML = '';\n",
              "          dataTable['output_type'] = 'display_data';\n",
              "          await google.colab.output.renderOutput(dataTable, element);\n",
              "          const docLink = document.createElement('div');\n",
              "          docLink.innerHTML = docLinkHtml;\n",
              "          element.appendChild(docLink);\n",
              "        }\n",
              "      </script>\n",
              "    </div>\n",
              "  </div>\n",
              "  "
            ],
            "text/plain": [
              "   Metrekare  Fiyat\n",
              "0        100     70\n",
              "1        150     90\n",
              "2        120     95\n",
              "3        300    120\n",
              "4        230    110"
            ]
          },
          "metadata": {},
          "execution_count": 10
        }
      ]
    },
    {
      "cell_type": "markdown",
      "source": [
        "# **R2 (R squared)**"
      ],
      "metadata": {
        "id": "MieAUJ_VityT"
      }
    },
    {
      "cell_type": "code",
      "source": [
        "from sklearn.linear_model import LinearRegression\n",
        "from sklearn.metrics import r2_score\n",
        "\n",
        "df = pd.DataFrame(data = {\n",
        "    'Metrekare':[100, 150, 120, 300, 230], \n",
        "    'Bina Yaşı':[5, 2, 6, 10, 3], \n",
        "    'Fiyat':[70, 90, 95, 120, 110]})"
      ],
      "metadata": {
        "id": "F5TGZD4xivNs"
      },
      "execution_count": 11,
      "outputs": []
    },
    {
      "cell_type": "code",
      "source": [
        "df.head()"
      ],
      "metadata": {
        "id": "_VjJiH2KiyHT",
        "colab": {
          "base_uri": "https://localhost:8080/",
          "height": 206
        },
        "outputId": "78cc3237-d89c-48fa-88ca-020e9a301c83"
      },
      "execution_count": 12,
      "outputs": [
        {
          "output_type": "execute_result",
          "data": {
            "text/html": [
              "\n",
              "  <div id=\"df-4444f612-908b-475c-aede-23cbb54a8d6e\">\n",
              "    <div class=\"colab-df-container\">\n",
              "      <div>\n",
              "<style scoped>\n",
              "    .dataframe tbody tr th:only-of-type {\n",
              "        vertical-align: middle;\n",
              "    }\n",
              "\n",
              "    .dataframe tbody tr th {\n",
              "        vertical-align: top;\n",
              "    }\n",
              "\n",
              "    .dataframe thead th {\n",
              "        text-align: right;\n",
              "    }\n",
              "</style>\n",
              "<table border=\"1\" class=\"dataframe\">\n",
              "  <thead>\n",
              "    <tr style=\"text-align: right;\">\n",
              "      <th></th>\n",
              "      <th>Metrekare</th>\n",
              "      <th>Bina Yaşı</th>\n",
              "      <th>Fiyat</th>\n",
              "    </tr>\n",
              "  </thead>\n",
              "  <tbody>\n",
              "    <tr>\n",
              "      <th>0</th>\n",
              "      <td>100</td>\n",
              "      <td>5</td>\n",
              "      <td>70</td>\n",
              "    </tr>\n",
              "    <tr>\n",
              "      <th>1</th>\n",
              "      <td>150</td>\n",
              "      <td>2</td>\n",
              "      <td>90</td>\n",
              "    </tr>\n",
              "    <tr>\n",
              "      <th>2</th>\n",
              "      <td>120</td>\n",
              "      <td>6</td>\n",
              "      <td>95</td>\n",
              "    </tr>\n",
              "    <tr>\n",
              "      <th>3</th>\n",
              "      <td>300</td>\n",
              "      <td>10</td>\n",
              "      <td>120</td>\n",
              "    </tr>\n",
              "    <tr>\n",
              "      <th>4</th>\n",
              "      <td>230</td>\n",
              "      <td>3</td>\n",
              "      <td>110</td>\n",
              "    </tr>\n",
              "  </tbody>\n",
              "</table>\n",
              "</div>\n",
              "      <button class=\"colab-df-convert\" onclick=\"convertToInteractive('df-4444f612-908b-475c-aede-23cbb54a8d6e')\"\n",
              "              title=\"Convert this dataframe to an interactive table.\"\n",
              "              style=\"display:none;\">\n",
              "        \n",
              "  <svg xmlns=\"http://www.w3.org/2000/svg\" height=\"24px\"viewBox=\"0 0 24 24\"\n",
              "       width=\"24px\">\n",
              "    <path d=\"M0 0h24v24H0V0z\" fill=\"none\"/>\n",
              "    <path d=\"M18.56 5.44l.94 2.06.94-2.06 2.06-.94-2.06-.94-.94-2.06-.94 2.06-2.06.94zm-11 1L8.5 8.5l.94-2.06 2.06-.94-2.06-.94L8.5 2.5l-.94 2.06-2.06.94zm10 10l.94 2.06.94-2.06 2.06-.94-2.06-.94-.94-2.06-.94 2.06-2.06.94z\"/><path d=\"M17.41 7.96l-1.37-1.37c-.4-.4-.92-.59-1.43-.59-.52 0-1.04.2-1.43.59L10.3 9.45l-7.72 7.72c-.78.78-.78 2.05 0 2.83L4 21.41c.39.39.9.59 1.41.59.51 0 1.02-.2 1.41-.59l7.78-7.78 2.81-2.81c.8-.78.8-2.07 0-2.86zM5.41 20L4 18.59l7.72-7.72 1.47 1.35L5.41 20z\"/>\n",
              "  </svg>\n",
              "      </button>\n",
              "      \n",
              "  <style>\n",
              "    .colab-df-container {\n",
              "      display:flex;\n",
              "      flex-wrap:wrap;\n",
              "      gap: 12px;\n",
              "    }\n",
              "\n",
              "    .colab-df-convert {\n",
              "      background-color: #E8F0FE;\n",
              "      border: none;\n",
              "      border-radius: 50%;\n",
              "      cursor: pointer;\n",
              "      display: none;\n",
              "      fill: #1967D2;\n",
              "      height: 32px;\n",
              "      padding: 0 0 0 0;\n",
              "      width: 32px;\n",
              "    }\n",
              "\n",
              "    .colab-df-convert:hover {\n",
              "      background-color: #E2EBFA;\n",
              "      box-shadow: 0px 1px 2px rgba(60, 64, 67, 0.3), 0px 1px 3px 1px rgba(60, 64, 67, 0.15);\n",
              "      fill: #174EA6;\n",
              "    }\n",
              "\n",
              "    [theme=dark] .colab-df-convert {\n",
              "      background-color: #3B4455;\n",
              "      fill: #D2E3FC;\n",
              "    }\n",
              "\n",
              "    [theme=dark] .colab-df-convert:hover {\n",
              "      background-color: #434B5C;\n",
              "      box-shadow: 0px 1px 3px 1px rgba(0, 0, 0, 0.15);\n",
              "      filter: drop-shadow(0px 1px 2px rgba(0, 0, 0, 0.3));\n",
              "      fill: #FFFFFF;\n",
              "    }\n",
              "  </style>\n",
              "\n",
              "      <script>\n",
              "        const buttonEl =\n",
              "          document.querySelector('#df-4444f612-908b-475c-aede-23cbb54a8d6e button.colab-df-convert');\n",
              "        buttonEl.style.display =\n",
              "          google.colab.kernel.accessAllowed ? 'block' : 'none';\n",
              "\n",
              "        async function convertToInteractive(key) {\n",
              "          const element = document.querySelector('#df-4444f612-908b-475c-aede-23cbb54a8d6e');\n",
              "          const dataTable =\n",
              "            await google.colab.kernel.invokeFunction('convertToInteractive',\n",
              "                                                     [key], {});\n",
              "          if (!dataTable) return;\n",
              "\n",
              "          const docLinkHtml = 'Like what you see? Visit the ' +\n",
              "            '<a target=\"_blank\" href=https://colab.research.google.com/notebooks/data_table.ipynb>data table notebook</a>'\n",
              "            + ' to learn more about interactive tables.';\n",
              "          element.innerHTML = '';\n",
              "          dataTable['output_type'] = 'display_data';\n",
              "          await google.colab.output.renderOutput(dataTable, element);\n",
              "          const docLink = document.createElement('div');\n",
              "          docLink.innerHTML = docLinkHtml;\n",
              "          element.appendChild(docLink);\n",
              "        }\n",
              "      </script>\n",
              "    </div>\n",
              "  </div>\n",
              "  "
            ],
            "text/plain": [
              "   Metrekare  Bina Yaşı  Fiyat\n",
              "0        100          5     70\n",
              "1        150          2     90\n",
              "2        120          6     95\n",
              "3        300         10    120\n",
              "4        230          3    110"
            ]
          },
          "metadata": {},
          "execution_count": 12
        }
      ]
    },
    {
      "cell_type": "code",
      "source": [
        "X = df.iloc[:, :-1].values\n",
        "y = df.iloc[:,-1].values"
      ],
      "metadata": {
        "id": "FpeRMBuhizxG"
      },
      "execution_count": 13,
      "outputs": []
    },
    {
      "cell_type": "code",
      "source": [
        "X"
      ],
      "metadata": {
        "id": "M4edYRZ3i1YS",
        "colab": {
          "base_uri": "https://localhost:8080/"
        },
        "outputId": "90e58914-c436-4d2b-aefd-d82d30eed0cd"
      },
      "execution_count": 14,
      "outputs": [
        {
          "output_type": "execute_result",
          "data": {
            "text/plain": [
              "array([[100,   5],\n",
              "       [150,   2],\n",
              "       [120,   6],\n",
              "       [300,  10],\n",
              "       [230,   3]])"
            ]
          },
          "metadata": {},
          "execution_count": 14
        }
      ]
    },
    {
      "cell_type": "code",
      "source": [
        "y"
      ],
      "metadata": {
        "id": "RfcSE_5ti2Rz",
        "colab": {
          "base_uri": "https://localhost:8080/"
        },
        "outputId": "49a8482a-5b1e-4440-94f4-4a734241908f"
      },
      "execution_count": 15,
      "outputs": [
        {
          "output_type": "execute_result",
          "data": {
            "text/plain": [
              "array([ 70,  90,  95, 120, 110])"
            ]
          },
          "metadata": {},
          "execution_count": 15
        }
      ]
    },
    {
      "cell_type": "code",
      "source": [
        "reg = LinearRegression().fit(X, y)\n",
        "\n",
        "y_pred = []\n",
        "\n",
        "for idx in range(len(df)):\n",
        "  metrekare = df.loc[idx][\"Metrekare\"]\n",
        "  bina_yasi = df.loc[idx][\"Bina Yaşı\"]\n",
        "\n",
        "  y_pred.append(reg.predict([[metrekare,bina_yasi]]))\n",
        "\n",
        "print(reg.score(X, y)) # X -> Test verisi, y -> Test verilerinin gerçek label değerleri\n",
        "print(r2_score(y, y_pred)) # y -> Gerçek label değerleri, y_pred -> model tarafından tahmin edilen y değerleri"
      ],
      "metadata": {
        "id": "4nxdJO0Oi5-Q",
        "colab": {
          "base_uri": "https://localhost:8080/"
        },
        "outputId": "4e465743-5be2-4c1b-d258-a476a0d887ec"
      },
      "execution_count": 16,
      "outputs": [
        {
          "output_type": "stream",
          "name": "stdout",
          "text": [
            "0.8465258951131542\n",
            "0.8465258951131542\n"
          ]
        }
      ]
    },
    {
      "cell_type": "markdown",
      "source": [
        "# **Mean Absolute Error (MAE)**"
      ],
      "metadata": {
        "id": "-4_-M5LEi7Vu"
      }
    },
    {
      "cell_type": "code",
      "source": [
        "from sklearn.linear_model import LinearRegression\n",
        "from sklearn.metrics import mean_absolute_error\n",
        "\n",
        "df = pd.DataFrame(data = {\n",
        "    'Metrekare':[100, 150, 120, 300, 230], \n",
        "    'Bina Yaşı':[5, 2, 6, 10, 3], \n",
        "    'Fiyat':[70, 90, 95, 120, 110]\n",
        "    })\n",
        "\n",
        "X = df.iloc[:,:-1].values # feature values (take columns until last column)\n",
        "y = df.iloc[:,-1].values # label values (take only last column)\n",
        "\n",
        "reg = LinearRegression().fit(X, y)\n",
        "\n",
        "y_pred = []\n",
        "\n",
        "for idx in range(len(df)):\n",
        "  metrekare = df.loc[idx][\"Metrekare\"]\n",
        "  bina_yasi = df.loc[idx][\"Bina Yaşı\"]\n",
        "\n",
        "  y_pred.append(reg.predict([[metrekare,bina_yasi]]))\n",
        "\n",
        "\n",
        "print(mean_absolute_error(y, y_pred))"
      ],
      "metadata": {
        "id": "s_MqOQHDi9uQ",
        "colab": {
          "base_uri": "https://localhost:8080/"
        },
        "outputId": "9bb36d48-7774-41f7-be57-fec902f3a642"
      },
      "execution_count": 17,
      "outputs": [
        {
          "output_type": "stream",
          "name": "stdout",
          "text": [
            "5.173364755434096\n"
          ]
        }
      ]
    },
    {
      "cell_type": "markdown",
      "source": [
        "# **Mean Squared Error (MSE)**"
      ],
      "metadata": {
        "id": "YzfuNs6ai_PM"
      }
    },
    {
      "cell_type": "code",
      "source": [
        "from sklearn.linear_model import LinearRegression\n",
        "from sklearn.metrics import mean_squared_error\n",
        "\n",
        "df = pd.DataFrame(data = {\n",
        "    'Metrekare':[100, 150, 120, 300, 230], \n",
        "    'Bina Yaşı':[5, 2, 6, 10, 3], \n",
        "    'Fiyat':[70, 90, 95, 120, 110]})\n",
        "\n",
        "X = df.iloc[:,:-1].values\n",
        "y = df.iloc[:,-1].values\n",
        "\n",
        "reg = LinearRegression().fit(X, y)\n",
        "\n",
        "y_pred = []\n",
        "\n",
        "for idx in range(len(df)):\n",
        "  metrekare = df.loc[idx][\"Metrekare\"]\n",
        "  bina_yasi = df.loc[idx][\"Bina Yaşı\"]\n",
        "\n",
        "  y_pred.append(reg.predict([[metrekare,bina_yasi]]))\n",
        "\n",
        "\n",
        "print(mean_squared_error(y, y_pred))"
      ],
      "metadata": {
        "id": "vsYy1hhwjAlN",
        "colab": {
          "base_uri": "https://localhost:8080/"
        },
        "outputId": "b1b9a194-e2e4-49f4-a370-c933e994f23c"
      },
      "execution_count": 18,
      "outputs": [
        {
          "output_type": "stream",
          "name": "stdout",
          "text": [
            "45.42833504650633\n"
          ]
        }
      ]
    },
    {
      "cell_type": "markdown",
      "source": [
        "# **Verimizi Eğitim - Test - Validasyon Setlerine Ayırmak (train-test-validation split)**"
      ],
      "metadata": {
        "id": "S_N3qycRjDeR"
      }
    },
    {
      "cell_type": "code",
      "source": [
        "#train-test split\n",
        "import pandas as pd\n",
        "import numpy as np\n",
        "from sklearn.model_selection import train_test_split\n",
        "from sklearn.linear_model import LinearRegression\n",
        "\n",
        "\n",
        "df = pd.DataFrame(data = {'Metrekare':[100, 150, 120, 300, 230, 175, 220, 270, 190, 220], \n",
        "                          'Bina Yaşı':[5, 2, 6, 10, 3, 7, 6, 8, 9, 4], \n",
        "                          'Fiyat':[70, 90, 95, 120, 110, 120, 95, 140, 220, 100]})\n",
        "\n",
        "X = df.iloc[:, :-1].values\n",
        "y = df.iloc[:, -1].values\n",
        "\n",
        "X_train, X_test, y_train, y_test = train_test_split(X, y, test_size=0.2, random_state=7)\n",
        "\n",
        "print(X_train.shape)\n",
        "print(X_test.shape)\n",
        "print(y_train.shape)\n",
        "print(y_test.shape)\n",
        "\n",
        "print(X_train)"
      ],
      "metadata": {
        "id": "pB1r-1vVjG3w",
        "colab": {
          "base_uri": "https://localhost:8080/"
        },
        "outputId": "7bb1ac97-9248-44f2-a135-7c60fc06de33"
      },
      "execution_count": 19,
      "outputs": [
        {
          "output_type": "stream",
          "name": "stdout",
          "text": [
            "(8, 2)\n",
            "(2, 2)\n",
            "(8,)\n",
            "(2,)\n",
            "[[100   5]\n",
            " [120   6]\n",
            " [150   2]\n",
            " [220   4]\n",
            " [270   8]\n",
            " [300  10]\n",
            " [220   6]\n",
            " [230   3]]\n"
          ]
        }
      ]
    },
    {
      "cell_type": "code",
      "source": [
        "X_train"
      ],
      "metadata": {
        "id": "ZkIgvXlijIWT",
        "colab": {
          "base_uri": "https://localhost:8080/"
        },
        "outputId": "fe892dba-db7f-423d-ca18-9e9cf339afed"
      },
      "execution_count": 20,
      "outputs": [
        {
          "output_type": "execute_result",
          "data": {
            "text/plain": [
              "array([[100,   5],\n",
              "       [120,   6],\n",
              "       [150,   2],\n",
              "       [220,   4],\n",
              "       [270,   8],\n",
              "       [300,  10],\n",
              "       [220,   6],\n",
              "       [230,   3]])"
            ]
          },
          "metadata": {},
          "execution_count": 20
        }
      ]
    },
    {
      "cell_type": "code",
      "source": [
        "X_test"
      ],
      "metadata": {
        "id": "phbgGgKCjJsE",
        "colab": {
          "base_uri": "https://localhost:8080/"
        },
        "outputId": "a83244eb-ea19-49a3-ffb9-50357e1a91e1"
      },
      "execution_count": 21,
      "outputs": [
        {
          "output_type": "execute_result",
          "data": {
            "text/plain": [
              "array([[190,   9],\n",
              "       [175,   7]])"
            ]
          },
          "metadata": {},
          "execution_count": 21
        }
      ]
    },
    {
      "cell_type": "code",
      "source": [
        "X_train, X_test, y_train, y_test = train_test_split(X, y, test_size=0.2, random_state = 7)\n",
        "\n",
        "print(X_train)"
      ],
      "metadata": {
        "id": "YN75-te5jKy3",
        "colab": {
          "base_uri": "https://localhost:8080/"
        },
        "outputId": "7d595afe-d650-4f40-9afb-6f35c56bc472"
      },
      "execution_count": 22,
      "outputs": [
        {
          "output_type": "stream",
          "name": "stdout",
          "text": [
            "[[100   5]\n",
            " [120   6]\n",
            " [150   2]\n",
            " [220   4]\n",
            " [270   8]\n",
            " [300  10]\n",
            " [220   6]\n",
            " [230   3]]\n"
          ]
        }
      ]
    },
    {
      "cell_type": "code",
      "source": [
        "X_train, X_test, y_train, y_test = train_test_split(X, y, test_size=0.2, random_state=9)\n",
        "\n",
        "print(X_train)"
      ],
      "metadata": {
        "id": "3a-Hb7mFjL5B",
        "colab": {
          "base_uri": "https://localhost:8080/"
        },
        "outputId": "a812a6cc-7744-42ca-8792-d0c01a6de667"
      },
      "execution_count": 23,
      "outputs": [
        {
          "output_type": "stream",
          "name": "stdout",
          "text": [
            "[[270   8]\n",
            " [120   6]\n",
            " [150   2]\n",
            " [220   4]\n",
            " [300  10]\n",
            " [100   5]\n",
            " [220   6]\n",
            " [175   7]]\n"
          ]
        }
      ]
    },
    {
      "cell_type": "code",
      "source": [
        "X_train, X_test, y_train, y_test = train_test_split(X, y, test_size = 0.2, random_state = 7)\n",
        "\n",
        "print(X_train)"
      ],
      "metadata": {
        "id": "ysmRLgjijNTB",
        "colab": {
          "base_uri": "https://localhost:8080/"
        },
        "outputId": "5812b968-80c6-45c2-d207-21cb361f9b70"
      },
      "execution_count": 24,
      "outputs": [
        {
          "output_type": "stream",
          "name": "stdout",
          "text": [
            "[[100   5]\n",
            " [120   6]\n",
            " [150   2]\n",
            " [220   4]\n",
            " [270   8]\n",
            " [300  10]\n",
            " [220   6]\n",
            " [230   3]]\n"
          ]
        }
      ]
    },
    {
      "cell_type": "code",
      "source": [
        "#train-test-validation split\n",
        "df = pd.DataFrame(data = {'Metrekare':[100, 150, 120, 300, 230, 175, 220, 270, 190, 220], \n",
        "                          'Bina Yaşı':[5, 2, 6, 10, 3, 7, 6, 8, 9, 4], \n",
        "                          'Fiyat':[70, 90, 95, 120, 110, 120, 95, 140, 220, 100]})\n",
        "\n",
        "X = df.iloc[:,:-1].values\n",
        "y = df.iloc[:,-1].values\n",
        "\n",
        "X_train, X_test, y_train, y_test = train_test_split(X, y, test_size=0.2, random_state=7)\n",
        "\n",
        "X_train, X_validasyon, y_train, y_validasyon = train_test_split(X_train, y_train, test_size=2)\n",
        "\n",
        "\n",
        "print(X_train.shape)\n",
        "print(X_test.shape)\n",
        "\n",
        "print(y_train.shape)\n",
        "print(y_test.shape)\n",
        "\n",
        "print(X_validasyon.shape)\n",
        "print(y_validasyon.shape)\n",
        "\n",
        "print(X_train)"
      ],
      "metadata": {
        "id": "yh74A06pjQbN",
        "colab": {
          "base_uri": "https://localhost:8080/"
        },
        "outputId": "02468b6b-c666-4e00-b3c3-8c791a9a69ba"
      },
      "execution_count": 25,
      "outputs": [
        {
          "output_type": "stream",
          "name": "stdout",
          "text": [
            "(6, 2)\n",
            "(2, 2)\n",
            "(6,)\n",
            "(2,)\n",
            "(2, 2)\n",
            "(2,)\n",
            "[[230   3]\n",
            " [220   4]\n",
            " [120   6]\n",
            " [150   2]\n",
            " [270   8]\n",
            " [300  10]]\n"
          ]
        }
      ]
    },
    {
      "cell_type": "markdown",
      "source": [
        "# **L1 (Lasso) Regülarizasyon**"
      ],
      "metadata": {
        "id": "KCfnX0SijRzf"
      }
    },
    {
      "cell_type": "code",
      "source": [
        "from sklearn.linear_model import Lasso\n",
        "\n",
        "df = pd.DataFrame(data = {\n",
        "    'Metrekare':[100, 150, 120, 300, 230], \n",
        "    'Bina Yaşı':[5, 2, 6, 10, 3], \n",
        "    'Fiyat':[70, 90, 95, 120, 110]})\n",
        "\n",
        "X = df.iloc[:, :-1].values\n",
        "y = df.iloc[:, -1].values\n",
        "\n",
        "model = Lasso(alpha=0.1)\n",
        "model.fit(X, y)\n",
        "\n",
        "print(model.coef_)\n",
        "print(model.score(X, y))\n",
        "print(model.intercept_)\n",
        "\n",
        "print(model.predict([[300, 9]]))"
      ],
      "metadata": {
        "id": "foGYquuYjTPE",
        "colab": {
          "base_uri": "https://localhost:8080/"
        },
        "outputId": "5e0381da-8862-49a5-dfb7-cde8f2ac9120"
      },
      "execution_count": 26,
      "outputs": [
        {
          "output_type": "stream",
          "name": "stdout",
          "text": [
            "[ 0.21485124 -0.1384319 ]\n",
            "0.8465197737595426\n",
            "59.04662250437324\n",
            "[122.2561077]\n"
          ]
        }
      ]
    },
    {
      "cell_type": "markdown",
      "source": [
        "https://developers.google.com/machine-learning/crash-course/regularization-for-sparsity/l1-regularization"
      ],
      "metadata": {
        "id": "O0r1Obfxjb45"
      }
    },
    {
      "cell_type": "markdown",
      "source": [
        "# **L2 (Ridge) Regülarizasyon**"
      ],
      "metadata": {
        "id": "Mx9NBhlDjcwq"
      }
    },
    {
      "cell_type": "code",
      "source": [
        "from sklearn.linear_model import Ridge\n",
        "\n",
        "df = pd.DataFrame(data = {\n",
        "    'Metrekare':[100, 150, 120, 300, 230], \n",
        "    'Bina Yaşı':[5, 2, 6, 10, 3], \n",
        "    'Fiyat':[70, 90, 95, 120, 110]\n",
        "    })\n",
        "\n",
        "X = df.iloc[:,:-1].values\n",
        "y = df.iloc[:,-1].values\n",
        "\n",
        "model = Ridge(alpha=0.1)\n",
        "model.fit(X, y)\n",
        "\n",
        "print(model.coef_)\n",
        "print(model.score(X, y))\n",
        "print(model.intercept_)\n",
        "\n",
        "model.predict([[300, 9]])"
      ],
      "metadata": {
        "id": "20cSbbg2jfwc",
        "colab": {
          "base_uri": "https://localhost:8080/"
        },
        "outputId": "f7e3284b-7786-4f9d-ceaf-4dc3351101a6"
      },
      "execution_count": 27,
      "outputs": [
        {
          "output_type": "stream",
          "name": "stdout",
          "text": [
            "[ 0.21519658 -0.15563458]\n",
            "0.8465258890938407\n",
            "59.07391617007209\n"
          ]
        },
        {
          "output_type": "execute_result",
          "data": {
            "text/plain": [
              "array([122.23217769])"
            ]
          },
          "metadata": {},
          "execution_count": 27
        }
      ]
    }
  ],
  "metadata": {
    "colab": {
      "collapsed_sections": [],
      "name": "Regresyon",
      "toc_visible": true,
      "provenance": [],
      "include_colab_link": true
    },
    "kernelspec": {
      "display_name": "Python 3",
      "name": "python3"
    }
  },
  "nbformat": 4,
  "nbformat_minor": 0
}